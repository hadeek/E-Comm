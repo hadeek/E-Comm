{
  "nbformat": 4,
  "nbformat_minor": 0,
  "metadata": {
    "colab": {
      "name": "E-Comm.ipynb",
      "provenance": [],
      "collapsed_sections": [],
      "authorship_tag": "ABX9TyO04RDnyZFFnLCS4p4KVcR1",
      "include_colab_link": true
    },
    "kernelspec": {
      "name": "python3",
      "display_name": "Python 3"
    },
    "language_info": {
      "name": "python"
    }
  },
  "cells": [
    {
      "cell_type": "markdown",
      "metadata": {
        "id": "view-in-github",
        "colab_type": "text"
      },
      "source": [
        "<a href=\"https://colab.research.google.com/github/hadeek/E-Comm/blob/main/E_Comm.ipynb\" target=\"_parent\"><img src=\"https://colab.research.google.com/assets/colab-badge.svg\" alt=\"Open In Colab\"/></a>"
      ]
    },
    {
      "cell_type": "code",
      "metadata": {
        "colab": {
          "base_uri": "https://localhost:8080/",
          "height": 129
        },
        "id": "u6DlZcAv6R4P",
        "outputId": "7d15d30e-4adc-4fda-e8f4-f1f1d013d210"
      },
      "source": [
        "import pandas as pd\n",
        "import numpy as np\n",
        "import io\n",
        "from google.colab import files\n",
        "\n",
        "uploaded =files.upload()\n",
        "\n",
        "pstore = pd.read_csv(\"Womens Clothing E-Commerce Reviews.csv\")\n",
        "pstore.head(10)\n",
        "\n",
        "import numpy as np\n",
        "import pandas as pd\n",
        "import matplotlib.pyplot as plt\n",
        "import seaborn as sns\n",
        "\n",
        "\n",
        "\n",
        "# #Create a distribution plot for rating\n",
        "sns.distplot(pstore.Age)\n",
        "plt.show()\n",
        "\n",
        "# #Change the number of bins\n",
        "sns.distplot(inp1.Age, bins=20, kde = False)\n",
        "plt.show()\n",
        "\n",
        "#importing all the libraries\n",
        "import numpy as np\n",
        "import pandas as pd\n",
        "import matplotlib.pyplot as plt\n",
        "import seaborn as sns\n",
        "\n",
        "#Create a distribution plot for rating\n",
        "sns.distplot(pstore.Rating, bins=20, color=\"g\")\n",
        "plt.title(\"Distribution of app Age\", fontsize=20, color = 'red')\n",
        "plt.show()\n",
        "\n",
        "#importing all the libraries\n",
        "import numpy as np\n",
        "import pandas as pd\n",
        "import matplotlib.pyplot as plt\n",
        "import seaborn as sns\n",
        "\n",
        "#Analyzing the Content Rating column\n",
        "pstore['Age'].value_counts()\n",
        "\n",
        "\n",
        "\n",
        "Remove the rows with values which are less represented \n",
        "pstore = pstore[~pstore['Age'].isin([\"39\",\"90\"])]\n",
        "\n",
        "Resetting the index\n",
        "pstore.reset_index(inplace=True, drop=True)\n",
        "\n",
        "#Analyzing the Content Rating column again\n",
        "pstore['Age'].value_counts()\n",
        "\n",
        "\n",
        "\n",
        "#Plotting a pie chart\n",
        "plt.figure(figsize=[9,7])\n",
        "pstore['Age'].value_counts().plot.pie()\n",
        "plt.show()\n",
        "\n",
        "plt.figure(figsize=[9,7])\n",
        "pstore['Age'].value_counts().plot.barh()\n",
        "plt.show()\n",
        "\n",
        "#Plotting the scatter plot\n",
        "plt.scatter(pstore.Age, pstore.Rating)\n",
        "plt.show()\n",
        "\n",
        "sns.jointplot(pstore.Age, pstore.Rating)\n",
        "plt.show()\n",
        "\n",
        "sns.jointplot(pstore.Age, pstore.Rating, kind = \"reg\")\n",
        "plt.show()\n",
        "\n",
        "\n",
        "import matplotlib.pyplot as plt\n",
        "\n",
        "plt.rcParams[\"figure.figsize\"] = [7.00, 3.50]\n",
        "plt.rcParams[\"figure.autolayout\"] = True\n",
        "\n",
        "k = [5, 5, 5, 5]\n",
        "x, bins, p = plt.hist(k, density=True)\n",
        "\n",
        "plt.show()\n",
        "\n",
        "tips = sns.load_dataset(\"tips\")\n",
        "sns.displot(tips, x=\"size\")\n",
        "\n",
        "\n",
        "sns.displot(tips, x=\"size\", bins=[1, 2, 3, 4, 5, 6, 7])\n",
        "\n",
        "sns.displot(tips, x=\"day\", shrink=.8)\n",
        "\n",
        "\n"
      ],
      "execution_count": 1,
      "outputs": [
        {
          "output_type": "error",
          "ename": "SyntaxError",
          "evalue": "ignored",
          "traceback": [
            "\u001b[0;36m  File \u001b[0;32m\"<ipython-input-1-18a41a27fc07>\"\u001b[0;36m, line \u001b[0;32m48\u001b[0m\n\u001b[0;31m    Remove the rows with values which are less represented\u001b[0m\n\u001b[0m             ^\u001b[0m\n\u001b[0;31mSyntaxError\u001b[0m\u001b[0;31m:\u001b[0m invalid syntax\n"
          ]
        }
      ]
    }
  ]
}